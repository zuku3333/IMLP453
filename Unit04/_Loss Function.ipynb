{
 "cells": [
  {
   "cell_type": "markdown",
   "metadata": {},
   "source": [
    "\n",
    "# 評估指標實作篇\n",
    "建立一個機器學習模型後，需要計算評估指標分數，<br>\n",
    "從指標中獲得反饋看模型表現的優劣，再繼續改進模型，直到達到理想的指標分數。\n",
    "\n"
   ]
  },
  {
   "cell_type": "markdown",
   "metadata": {},
   "source": [
    "<img  src=\"images/MAE.jpg\" align='left'/><br><br><br><br><br>\n",
    "<img  src=\"images/MSE.jpg\" align='left'/><br><br><br><br><br>\n",
    "<img  src=\"images/RMSE.jpg\" align='left'/><br><br><br><br><br>\n",
    "\n",
    "ANS<br>\n",
    "MAE =  1.4916666666666665<br>\n",
    "MSE =  2.72875<br>\n",
    "RMSE =  1.651892853668179<br>\n"
   ]
  },
  {
   "cell_type": "code",
   "execution_count": 2,
   "metadata": {},
   "outputs": [],
   "source": [
    "target = [1.5, 2.1, 3.3, -4.7, -2.3, 0.75]\n",
    "prediction = [0.5, 1.5, 2.1, -2.2, 0.1, -0.5]"
   ]
  },
  {
   "cell_type": "code",
   "execution_count": 3,
   "metadata": {},
   "outputs": [
    {
     "name": "stdout",
     "output_type": "stream",
     "text": [
      "Errors: [1.0, 0.6000000000000001, 1.1999999999999997, -2.5, -2.4, 1.25]\n",
      "absErrors: [1.0, 0.6000000000000001, 1.1999999999999997, 2.5, 2.4, 1.25]\n",
      "squaredError: [1.0, 0.3600000000000001, 1.4399999999999993, 6.25, 5.76, 1.5625]\n",
      "Absolute Value of Error:  [1.0, 0.6000000000000001, 1.1999999999999997, 2.5, 2.4, 1.25]\n",
      "MAE =  1.4916666666666665\n",
      "Square Error:  [1.0, 0.3600000000000001, 1.4399999999999993, 6.25, 5.76, 1.5625]\n",
      "MSE =  2.72875\n",
      "RMSE =  1.651892853668179\n"
     ]
    }
   ],
   "source": [
    "import math\n",
    "error = []\n",
    "absError = []\n",
    "squaredError = []\n",
    "for i in range(len(target)):\n",
    "    value = target[i] - prediction[i]\n",
    "    error.append(value)\n",
    "    absError.append(abs(value))\n",
    "    squaredError.append(value*value)\n",
    "print('Errors:', error)\n",
    "print('absErrors:', absError)\n",
    "print('squaredError:', squaredError)\n",
    "\n",
    "#平均絕對誤差MAE\n",
    "print('Absolute Value of Error: ', absError)\n",
    "print('MAE = ', sum(absError)/len(absError))\n",
    "\n",
    "#均方誤差MSE\n",
    "print('Square Error: ', squaredError)\n",
    "print('MSE = ', sum(squaredError)/len(squaredError))\n",
    "\n",
    "#均方根誤差RMSE\n",
    "print('RMSE = ', math.sqrt(sum(squaredError)/len(squaredError)))\n",
    "\n",
    " \n",
    "\n"
   ]
  },
  {
   "cell_type": "markdown",
   "metadata": {},
   "source": [
    "#### other\n",
    "平均值 變異數 標準差"
   ]
  },
  {
   "cell_type": "code",
   "execution_count": null,
   "metadata": {},
   "outputs": [],
   "source": [
    "targetDeviation = []\n",
    "targetMean = sum(target) / len(target)#target平均值\n",
    "for val in target:\n",
    "    targetDeviation.append((val - targetMean) * (val - targetMean))\n",
    "print(\"Target Variance = \", sum(targetDeviation) / len(targetDeviation))#方差\n",
    "print(\"Target Standard Deviation = \", sqrt(sum(targetDeviation) / len(targetDeviation)))#標準差"
   ]
  },
  {
   "cell_type": "markdown",
   "metadata": {},
   "source": [
    "# sklearn\n",
    "from sklearn import metrics\n",
    "\n",
    ">Mean Absolute Error (MAE)代表平均誤差，公式為所有實際值及預測值相減的絕對值平均。\n",
    "\n",
    ">Mean Squared Error (MSE)比起MSE可以拉開誤差差距，算是蠻常用的指標，公式所有實際值及預測值相減的平方的平均\n",
    "\n",
    ">Root Mean Squared Error (RMSE)代表MSE的平方根。比起MSE更為常用，因為更容易解釋y。\n"
   ]
  },
  {
   "cell_type": "code",
   "execution_count": 4,
   "metadata": {},
   "outputs": [],
   "source": [
    "y_test = [1.5, 2.1, 3.3, -4.7, -2.3, 0.75]\n",
    "predictions = [0.5, 1.5, 2.1, -2.2, 0.1, -0.5]"
   ]
  },
  {
   "cell_type": "code",
   "execution_count": 5,
   "metadata": {},
   "outputs": [
    {
     "name": "stdout",
     "output_type": "stream",
     "text": [
      "MAE =  1.4916666666666665\n",
      "MSE =  2.72875\n",
      "RMSE =  1.651892853668179\n"
     ]
    }
   ],
   "source": [
    "#載入迴歸常見的評估指標套件\n",
    "from sklearn import metrics\n",
    "\n",
    "MAE = metrics.mean_absolute_error(y_test, predictions)\n",
    "\n",
    "MSE = metrics.mean_squared_error(y_test, predictions)\n",
    "\n",
    "print(\"MAE = \", MAE)\n",
    "print(\"MSE = \", MSE)\n",
    "print(\"RMSE = \", math.sqrt(metrics.mean_squared_error(y_test, predictions)))"
   ]
  },
  {
   "cell_type": "code",
   "execution_count": null,
   "metadata": {},
   "outputs": [],
   "source": []
  }
 ],
 "metadata": {
  "kernelspec": {
   "display_name": "Python 3 (ipykernel)",
   "language": "python",
   "name": "python3"
  },
  "language_info": {
   "codemirror_mode": {
    "name": "ipython",
    "version": 3
   },
   "file_extension": ".py",
   "mimetype": "text/x-python",
   "name": "python",
   "nbconvert_exporter": "python",
   "pygments_lexer": "ipython3",
   "version": "3.12.7"
  }
 },
 "nbformat": 4,
 "nbformat_minor": 4
}
